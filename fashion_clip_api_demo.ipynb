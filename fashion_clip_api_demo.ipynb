{
 "cells": [
  {
   "cell_type": "code",
   "execution_count": null,
   "metadata": {
    "collapsed": true
   },
   "outputs": [],
   "source": [
    "%load_ext autoreload\n",
    "%autoreload 2"
   ]
  },
  {
   "cell_type": "code",
   "execution_count": null,
   "outputs": [],
   "source": [
    "%reload_ext autoreload"
   ],
   "metadata": {
    "collapsed": false,
    "pycharm": {
     "name": "#%%\n"
    }
   }
  },
  {
   "cell_type": "code",
   "execution_count": null,
   "outputs": [],
   "source": [
    "# Load some envs since we are using a private bucket for now\n",
    "from dotenv import load_dotenv\n",
    "load_dotenv('.env')"
   ],
   "metadata": {
    "collapsed": false,
    "pycharm": {
     "name": "#%%\n"
    }
   }
  },
  {
   "cell_type": "markdown",
   "source": [
    "Import fashion_clip abstractions and utils"
   ],
   "metadata": {
    "collapsed": false,
    "pycharm": {
     "name": "#%% md\n"
    }
   }
  },
  {
   "cell_type": "code",
   "execution_count": null,
   "outputs": [],
   "source": [
    "import os\n",
    "from fashion_clip.fashion_clip import FashionCLIP, FCLIPDataset\n",
    "from fashion_clip.utils import get_cache_directory, display_images\n",
    "print(\"Cache is at {}\".format(get_cache_directory()))"
   ],
   "metadata": {
    "collapsed": false,
    "pycharm": {
     "name": "#%%\n"
    }
   }
  },
  {
   "cell_type": "markdown",
   "source": [
    "## Basic Setup\n",
    "Load dataset:\n",
    "- Download FF dataset\n",
    "- Construct your own dataset\n",
    "\n",
    "Dataset abstraction expects a list of dictionaries. Each element representing a single product/item.\n",
    "Each element __must__ contain at least: _id_, _image_ (filename), _caption_\n",
    "\n",
    "Currently, we assume images are all stored in some local folder"
   ],
   "metadata": {
    "collapsed": false,
    "pycharm": {
     "name": "#%% md\n"
    }
   }
  },
  {
   "cell_type": "code",
   "execution_count": null,
   "outputs": [],
   "source": [
    "# download included dataset\n",
    "# dataset = FCLIPDataset('FF',\n",
    "#                           image_source_path=os.getenv('S3_IMAGES_PATH'),\n",
    "#                           image_source_type='s3')\n",
    "\n",
    "# OR\n",
    "\n",
    "# Loading a local dataset\n",
    "# Create some local dataset\n",
    "catalog = [\n",
    "    {'id': 1, 'image': '16867424.jpg', 'caption': 'light red polo shirt'},\n",
    "    {'id': 2, 'image': '16790484.jpg', 'caption': 'an adidas sneaker'},\n",
    "    {'id': 3, 'image': '16198646.jpg', 'caption': 'dark red polo shirt'},\n",
    "]\n",
    "dataset = FCLIPDataset('farfetch_local',\n",
    "                       image_source_path='./images',\n",
    "                       image_source_type='local',\n",
    "                       catalog=catalog)"
   ],
   "metadata": {
    "collapsed": false,
    "pycharm": {
     "name": "#%%\n"
    }
   }
  },
  {
   "cell_type": "markdown",
   "source": [
    "Create FCLIP Object by specifying\n",
    "1. Model (Pre-trained (storedd in S3) or Local File)\n",
    "2. Dataset (FCLIPDataset)\n",
    "\n",
    "Under the hood: if dataset and model combination is recognized via hashing, we download the\n",
    "pre-processed vectors, else upon instantiation we generate vectors for the dataset"
   ],
   "metadata": {
    "collapsed": false,
    "pycharm": {
     "name": "#%% md\n"
    }
   }
  },
  {
   "cell_type": "code",
   "execution_count": null,
   "outputs": [],
   "source": [
    "# Instantiate FCLIP with pre-defined model and dataset\n",
    "fclip = FashionCLIP('fashion-clip', dataset, auth_token=os.getenv('AUTH_TOKEN'))\n",
    "# fclip = FashionCLIP('openai/clip-vit-base-patch32', dataset)"
   ],
   "metadata": {
    "collapsed": false,
    "pycharm": {
     "name": "#%%\n"
    }
   }
  },
  {
   "cell_type": "markdown",
   "source": [
    "## Demo Functionality"
   ],
   "metadata": {
    "collapsed": false,
    "pycharm": {
     "name": "#%% md\n"
    }
   }
  },
  {
   "cell_type": "markdown",
   "source": [
    "1 . Zero-shot classification\n",
    "\n",
    "We do not use pre-processed vectors here, although there is a possiblity of adding the option to\n",
    "specify images as SKU/ID as pull pre-processed vectors accordingly."
   ],
   "metadata": {
    "collapsed": false
   }
  },
  {
   "cell_type": "code",
   "execution_count": null,
   "outputs": [],
   "source": [
    "test_captions = [\n",
    "    \"nike sneakers\", \"adidas sneakers\", \"nike blue sneakers\", \"converse\", \"nike\",\n",
    "    \"library\", \"the flag of italy\", \"pizza\", \"a gucci dress\"\n",
    "]\n",
    "test_img_path = 'images/16790484.jpg'\n",
    "display_images([test_img_path])\n",
    "fclip.zero_shot_classification([test_img_path], test_captions)"
   ],
   "metadata": {
    "collapsed": false,
    "pycharm": {
     "name": "#%%\n"
    }
   }
  },
  {
   "cell_type": "markdown",
   "source": [
    "2 . Product Retrieval\n",
    "\n",
    "We perform retrieval over the images from the dataset specified at instantiation."
   ],
   "metadata": {
    "collapsed": false,
    "pycharm": {
     "name": "#%% md\n"
    }
   }
  },
  {
   "cell_type": "code",
   "execution_count": null,
   "outputs": [],
   "source": [
    "candidates = fclip.retrieval(['shoes'])\n",
    "print(candidates)\n",
    "_ = dataset.display_products(dataset.ids[candidates[0]], fields=tuple(['id']))"
   ],
   "metadata": {
    "collapsed": false,
    "pycharm": {
     "name": "#%%\n"
    }
   }
  },
  {
   "cell_type": "code",
   "execution_count": null,
   "outputs": [],
   "source": [
    "candidates = fclip.retrieval(['shirt'])\n",
    "print(candidates)\n",
    "_ = dataset.display_products(dataset.ids[candidates[0]], fields=tuple(['id']))"
   ],
   "metadata": {
    "collapsed": false,
    "pycharm": {
     "name": "#%%\n"
    }
   }
  },
  {
   "cell_type": "markdown",
   "source": [
    "3. Attention Masking"
   ],
   "metadata": {
    "collapsed": false
   }
  },
  {
   "cell_type": "code",
   "execution_count": null,
   "outputs": [],
   "source": [
    "fclip.display_attention(image_path='images/nike_dress.jpg',\n",
    "                        query_text='nike',\n",
    "                        pixel_size=15,\n",
    "                        iterations=15\n",
    ")\n"
   ],
   "metadata": {
    "collapsed": false,
    "pycharm": {
     "name": "#%%\n"
    }
   }
  }
 ],
 "metadata": {
  "kernelspec": {
   "display_name": "Python 3",
   "language": "python",
   "name": "python3"
  },
  "language_info": {
   "codemirror_mode": {
    "name": "ipython",
    "version": 2
   },
   "file_extension": ".py",
   "mimetype": "text/x-python",
   "name": "python",
   "nbconvert_exporter": "python",
   "pygments_lexer": "ipython2",
   "version": "2.7.6"
  }
 },
 "nbformat": 4,
 "nbformat_minor": 0
}